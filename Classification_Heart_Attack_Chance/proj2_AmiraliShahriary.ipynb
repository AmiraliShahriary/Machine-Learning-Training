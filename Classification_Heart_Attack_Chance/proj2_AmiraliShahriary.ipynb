{
 "cells": [
  {
   "cell_type": "markdown",
   "id": "dd0aff08",
   "metadata": {},
   "source": [
    "# **Heart attack prediction project**\n",
    "# Amirali Shahriary"
   ]
  },
  {
   "cell_type": "code",
   "execution_count": 162,
   "id": "9a67eb03",
   "metadata": {},
   "outputs": [],
   "source": [
    "import numpy as np\n",
    "import pandas as pd\n",
    "import matplotlib.pyplot as plt\n",
    "import seaborn as sns\n",
    "import matplotlib.pyplot as plt\n",
    "from sklearn.metrics import accuracy_score\n",
    "from sklearn.model_selection import train_test_split\n",
    "from sklearn.neighbors import KNeighborsClassifier\n",
    "from sklearn.tree import DecisionTreeClassifier\n",
    "from sklearn.metrics import accuracy_score\n",
    "from sklearn.linear_model import LogisticRegression\n",
    "from sklearn import svm\n",
    "\n",
    "%matplotlib inline"
   ]
  },
  {
   "cell_type": "code",
   "execution_count": 163,
   "id": "17493b71",
   "metadata": {},
   "outputs": [
    {
     "data": {
      "text/html": [
       "<div>\n",
       "<style scoped>\n",
       "    .dataframe tbody tr th:only-of-type {\n",
       "        vertical-align: middle;\n",
       "    }\n",
       "\n",
       "    .dataframe tbody tr th {\n",
       "        vertical-align: top;\n",
       "    }\n",
       "\n",
       "    .dataframe thead th {\n",
       "        text-align: right;\n",
       "    }\n",
       "</style>\n",
       "<table border=\"1\" class=\"dataframe\">\n",
       "  <thead>\n",
       "    <tr style=\"text-align: right;\">\n",
       "      <th></th>\n",
       "      <th>age</th>\n",
       "      <th>sex</th>\n",
       "      <th>cp</th>\n",
       "      <th>trtbps</th>\n",
       "      <th>chol</th>\n",
       "      <th>fbs</th>\n",
       "      <th>restecg</th>\n",
       "      <th>thalachh</th>\n",
       "      <th>exng</th>\n",
       "      <th>oldpeak</th>\n",
       "      <th>slp</th>\n",
       "      <th>caa</th>\n",
       "      <th>thall</th>\n",
       "      <th>output</th>\n",
       "    </tr>\n",
       "  </thead>\n",
       "  <tbody>\n",
       "    <tr>\n",
       "      <th>0</th>\n",
       "      <td>63</td>\n",
       "      <td>1</td>\n",
       "      <td>3</td>\n",
       "      <td>145</td>\n",
       "      <td>233</td>\n",
       "      <td>1</td>\n",
       "      <td>0</td>\n",
       "      <td>150</td>\n",
       "      <td>0</td>\n",
       "      <td>2.3</td>\n",
       "      <td>0</td>\n",
       "      <td>0</td>\n",
       "      <td>1</td>\n",
       "      <td>1</td>\n",
       "    </tr>\n",
       "    <tr>\n",
       "      <th>1</th>\n",
       "      <td>37</td>\n",
       "      <td>1</td>\n",
       "      <td>2</td>\n",
       "      <td>130</td>\n",
       "      <td>250</td>\n",
       "      <td>0</td>\n",
       "      <td>1</td>\n",
       "      <td>187</td>\n",
       "      <td>0</td>\n",
       "      <td>3.5</td>\n",
       "      <td>0</td>\n",
       "      <td>0</td>\n",
       "      <td>2</td>\n",
       "      <td>1</td>\n",
       "    </tr>\n",
       "    <tr>\n",
       "      <th>2</th>\n",
       "      <td>41</td>\n",
       "      <td>0</td>\n",
       "      <td>1</td>\n",
       "      <td>130</td>\n",
       "      <td>204</td>\n",
       "      <td>0</td>\n",
       "      <td>0</td>\n",
       "      <td>172</td>\n",
       "      <td>0</td>\n",
       "      <td>1.4</td>\n",
       "      <td>2</td>\n",
       "      <td>0</td>\n",
       "      <td>2</td>\n",
       "      <td>1</td>\n",
       "    </tr>\n",
       "    <tr>\n",
       "      <th>3</th>\n",
       "      <td>56</td>\n",
       "      <td>1</td>\n",
       "      <td>1</td>\n",
       "      <td>120</td>\n",
       "      <td>236</td>\n",
       "      <td>0</td>\n",
       "      <td>1</td>\n",
       "      <td>178</td>\n",
       "      <td>0</td>\n",
       "      <td>0.8</td>\n",
       "      <td>2</td>\n",
       "      <td>0</td>\n",
       "      <td>2</td>\n",
       "      <td>1</td>\n",
       "    </tr>\n",
       "    <tr>\n",
       "      <th>4</th>\n",
       "      <td>57</td>\n",
       "      <td>0</td>\n",
       "      <td>0</td>\n",
       "      <td>120</td>\n",
       "      <td>354</td>\n",
       "      <td>0</td>\n",
       "      <td>1</td>\n",
       "      <td>163</td>\n",
       "      <td>1</td>\n",
       "      <td>0.6</td>\n",
       "      <td>2</td>\n",
       "      <td>0</td>\n",
       "      <td>2</td>\n",
       "      <td>1</td>\n",
       "    </tr>\n",
       "  </tbody>\n",
       "</table>\n",
       "</div>"
      ],
      "text/plain": [
       "   age  sex  cp  trtbps  chol  fbs  restecg  thalachh  exng  oldpeak  slp  \\\n",
       "0   63    1   3     145   233    1        0       150     0      2.3    0   \n",
       "1   37    1   2     130   250    0        1       187     0      3.5    0   \n",
       "2   41    0   1     130   204    0        0       172     0      1.4    2   \n",
       "3   56    1   1     120   236    0        1       178     0      0.8    2   \n",
       "4   57    0   0     120   354    0        1       163     1      0.6    2   \n",
       "\n",
       "   caa  thall  output  \n",
       "0    0      1       1  \n",
       "1    0      2       1  \n",
       "2    0      2       1  \n",
       "3    0      2       1  \n",
       "4    0      2       1  "
      ]
     },
     "execution_count": 163,
     "metadata": {},
     "output_type": "execute_result"
    }
   ],
   "source": [
    "#data = pd.read_csv(\"heart.csv\")\n",
    "data = pd.read_csv('/home/amirali/Downloads/heart.csv') \n",
    "data[0:5]\n"
   ]
  },
  {
   "cell_type": "code",
   "execution_count": 164,
   "id": "c1e8a978",
   "metadata": {},
   "outputs": [
    {
     "data": {
      "text/plain": [
       "(303, 14)"
      ]
     },
     "execution_count": 164,
     "metadata": {},
     "output_type": "execute_result"
    }
   ],
   "source": [
    "data.shape"
   ]
  },
  {
   "cell_type": "code",
   "execution_count": 165,
   "id": "eedaecc5",
   "metadata": {},
   "outputs": [
    {
     "data": {
      "text/html": [
       "<div>\n",
       "<style scoped>\n",
       "    .dataframe tbody tr th:only-of-type {\n",
       "        vertical-align: middle;\n",
       "    }\n",
       "\n",
       "    .dataframe tbody tr th {\n",
       "        vertical-align: top;\n",
       "    }\n",
       "\n",
       "    .dataframe thead th {\n",
       "        text-align: right;\n",
       "    }\n",
       "</style>\n",
       "<table border=\"1\" class=\"dataframe\">\n",
       "  <thead>\n",
       "    <tr style=\"text-align: right;\">\n",
       "      <th></th>\n",
       "      <th>age</th>\n",
       "      <th>sex</th>\n",
       "      <th>cp</th>\n",
       "      <th>trtbps</th>\n",
       "      <th>chol</th>\n",
       "      <th>fbs</th>\n",
       "      <th>restecg</th>\n",
       "      <th>thalachh</th>\n",
       "      <th>exng</th>\n",
       "      <th>oldpeak</th>\n",
       "      <th>slp</th>\n",
       "      <th>caa</th>\n",
       "      <th>thall</th>\n",
       "      <th>output</th>\n",
       "    </tr>\n",
       "  </thead>\n",
       "  <tbody>\n",
       "    <tr>\n",
       "      <th>count</th>\n",
       "      <td>303.000000</td>\n",
       "      <td>303.000000</td>\n",
       "      <td>303.000000</td>\n",
       "      <td>303.000000</td>\n",
       "      <td>303.000000</td>\n",
       "      <td>303.000000</td>\n",
       "      <td>303.000000</td>\n",
       "      <td>303.000000</td>\n",
       "      <td>303.000000</td>\n",
       "      <td>303.000000</td>\n",
       "      <td>303.000000</td>\n",
       "      <td>303.000000</td>\n",
       "      <td>303.000000</td>\n",
       "      <td>303.000000</td>\n",
       "    </tr>\n",
       "    <tr>\n",
       "      <th>mean</th>\n",
       "      <td>54.366337</td>\n",
       "      <td>0.683168</td>\n",
       "      <td>0.966997</td>\n",
       "      <td>131.623762</td>\n",
       "      <td>246.264026</td>\n",
       "      <td>0.148515</td>\n",
       "      <td>0.528053</td>\n",
       "      <td>149.646865</td>\n",
       "      <td>0.326733</td>\n",
       "      <td>1.039604</td>\n",
       "      <td>1.399340</td>\n",
       "      <td>0.729373</td>\n",
       "      <td>2.313531</td>\n",
       "      <td>0.544554</td>\n",
       "    </tr>\n",
       "    <tr>\n",
       "      <th>std</th>\n",
       "      <td>9.082101</td>\n",
       "      <td>0.466011</td>\n",
       "      <td>1.032052</td>\n",
       "      <td>17.538143</td>\n",
       "      <td>51.830751</td>\n",
       "      <td>0.356198</td>\n",
       "      <td>0.525860</td>\n",
       "      <td>22.905161</td>\n",
       "      <td>0.469794</td>\n",
       "      <td>1.161075</td>\n",
       "      <td>0.616226</td>\n",
       "      <td>1.022606</td>\n",
       "      <td>0.612277</td>\n",
       "      <td>0.498835</td>\n",
       "    </tr>\n",
       "    <tr>\n",
       "      <th>min</th>\n",
       "      <td>29.000000</td>\n",
       "      <td>0.000000</td>\n",
       "      <td>0.000000</td>\n",
       "      <td>94.000000</td>\n",
       "      <td>126.000000</td>\n",
       "      <td>0.000000</td>\n",
       "      <td>0.000000</td>\n",
       "      <td>71.000000</td>\n",
       "      <td>0.000000</td>\n",
       "      <td>0.000000</td>\n",
       "      <td>0.000000</td>\n",
       "      <td>0.000000</td>\n",
       "      <td>0.000000</td>\n",
       "      <td>0.000000</td>\n",
       "    </tr>\n",
       "    <tr>\n",
       "      <th>25%</th>\n",
       "      <td>47.500000</td>\n",
       "      <td>0.000000</td>\n",
       "      <td>0.000000</td>\n",
       "      <td>120.000000</td>\n",
       "      <td>211.000000</td>\n",
       "      <td>0.000000</td>\n",
       "      <td>0.000000</td>\n",
       "      <td>133.500000</td>\n",
       "      <td>0.000000</td>\n",
       "      <td>0.000000</td>\n",
       "      <td>1.000000</td>\n",
       "      <td>0.000000</td>\n",
       "      <td>2.000000</td>\n",
       "      <td>0.000000</td>\n",
       "    </tr>\n",
       "    <tr>\n",
       "      <th>50%</th>\n",
       "      <td>55.000000</td>\n",
       "      <td>1.000000</td>\n",
       "      <td>1.000000</td>\n",
       "      <td>130.000000</td>\n",
       "      <td>240.000000</td>\n",
       "      <td>0.000000</td>\n",
       "      <td>1.000000</td>\n",
       "      <td>153.000000</td>\n",
       "      <td>0.000000</td>\n",
       "      <td>0.800000</td>\n",
       "      <td>1.000000</td>\n",
       "      <td>0.000000</td>\n",
       "      <td>2.000000</td>\n",
       "      <td>1.000000</td>\n",
       "    </tr>\n",
       "    <tr>\n",
       "      <th>75%</th>\n",
       "      <td>61.000000</td>\n",
       "      <td>1.000000</td>\n",
       "      <td>2.000000</td>\n",
       "      <td>140.000000</td>\n",
       "      <td>274.500000</td>\n",
       "      <td>0.000000</td>\n",
       "      <td>1.000000</td>\n",
       "      <td>166.000000</td>\n",
       "      <td>1.000000</td>\n",
       "      <td>1.600000</td>\n",
       "      <td>2.000000</td>\n",
       "      <td>1.000000</td>\n",
       "      <td>3.000000</td>\n",
       "      <td>1.000000</td>\n",
       "    </tr>\n",
       "    <tr>\n",
       "      <th>max</th>\n",
       "      <td>77.000000</td>\n",
       "      <td>1.000000</td>\n",
       "      <td>3.000000</td>\n",
       "      <td>200.000000</td>\n",
       "      <td>564.000000</td>\n",
       "      <td>1.000000</td>\n",
       "      <td>2.000000</td>\n",
       "      <td>202.000000</td>\n",
       "      <td>1.000000</td>\n",
       "      <td>6.200000</td>\n",
       "      <td>2.000000</td>\n",
       "      <td>4.000000</td>\n",
       "      <td>3.000000</td>\n",
       "      <td>1.000000</td>\n",
       "    </tr>\n",
       "  </tbody>\n",
       "</table>\n",
       "</div>"
      ],
      "text/plain": [
       "              age         sex          cp      trtbps        chol         fbs  \\\n",
       "count  303.000000  303.000000  303.000000  303.000000  303.000000  303.000000   \n",
       "mean    54.366337    0.683168    0.966997  131.623762  246.264026    0.148515   \n",
       "std      9.082101    0.466011    1.032052   17.538143   51.830751    0.356198   \n",
       "min     29.000000    0.000000    0.000000   94.000000  126.000000    0.000000   \n",
       "25%     47.500000    0.000000    0.000000  120.000000  211.000000    0.000000   \n",
       "50%     55.000000    1.000000    1.000000  130.000000  240.000000    0.000000   \n",
       "75%     61.000000    1.000000    2.000000  140.000000  274.500000    0.000000   \n",
       "max     77.000000    1.000000    3.000000  200.000000  564.000000    1.000000   \n",
       "\n",
       "          restecg    thalachh        exng     oldpeak         slp         caa  \\\n",
       "count  303.000000  303.000000  303.000000  303.000000  303.000000  303.000000   \n",
       "mean     0.528053  149.646865    0.326733    1.039604    1.399340    0.729373   \n",
       "std      0.525860   22.905161    0.469794    1.161075    0.616226    1.022606   \n",
       "min      0.000000   71.000000    0.000000    0.000000    0.000000    0.000000   \n",
       "25%      0.000000  133.500000    0.000000    0.000000    1.000000    0.000000   \n",
       "50%      1.000000  153.000000    0.000000    0.800000    1.000000    0.000000   \n",
       "75%      1.000000  166.000000    1.000000    1.600000    2.000000    1.000000   \n",
       "max      2.000000  202.000000    1.000000    6.200000    2.000000    4.000000   \n",
       "\n",
       "            thall      output  \n",
       "count  303.000000  303.000000  \n",
       "mean     2.313531    0.544554  \n",
       "std      0.612277    0.498835  \n",
       "min      0.000000    0.000000  \n",
       "25%      2.000000    0.000000  \n",
       "50%      2.000000    1.000000  \n",
       "75%      3.000000    1.000000  \n",
       "max      3.000000    1.000000  "
      ]
     },
     "execution_count": 165,
     "metadata": {},
     "output_type": "execute_result"
    }
   ],
   "source": [
    "data.describe()"
   ]
  },
  {
   "cell_type": "code",
   "execution_count": 166,
   "id": "01f084af",
   "metadata": {
    "scrolled": true
   },
   "outputs": [
    {
     "name": "stdout",
     "output_type": "stream",
     "text": [
      "<class 'pandas.core.frame.DataFrame'>\n",
      "RangeIndex: 303 entries, 0 to 302\n",
      "Data columns (total 14 columns):\n",
      " #   Column    Non-Null Count  Dtype  \n",
      "---  ------    --------------  -----  \n",
      " 0   age       303 non-null    int64  \n",
      " 1   sex       303 non-null    int64  \n",
      " 2   cp        303 non-null    int64  \n",
      " 3   trtbps    303 non-null    int64  \n",
      " 4   chol      303 non-null    int64  \n",
      " 5   fbs       303 non-null    int64  \n",
      " 6   restecg   303 non-null    int64  \n",
      " 7   thalachh  303 non-null    int64  \n",
      " 8   exng      303 non-null    int64  \n",
      " 9   oldpeak   303 non-null    float64\n",
      " 10  slp       303 non-null    int64  \n",
      " 11  caa       303 non-null    int64  \n",
      " 12  thall     303 non-null    int64  \n",
      " 13  output    303 non-null    int64  \n",
      "dtypes: float64(1), int64(13)\n",
      "memory usage: 33.3 KB\n"
     ]
    }
   ],
   "source": [
    "data.info()\n",
    "#as you can see all the datas are int type except oldpeak.\n",
    "# there is no missing or broken values."
   ]
  },
  {
   "cell_type": "code",
   "execution_count": 167,
   "id": "b3ff9d23",
   "metadata": {},
   "outputs": [
    {
     "data": {
      "text/plain": [
       "['age',\n",
       " '1: male, 0: female',\n",
       " 'chest pain type, 1: typical angina, 2: atypical angina, 3: non-anginal pain, 4: asymptomatic',\n",
       " 'resting blood pressure',\n",
       " 'serum cholestoral in mg/dl',\n",
       " 'fasting blood sugar > 120 mg/dl',\n",
       " 'resting electrocardiographic results (values 0,1,2)',\n",
       " 'maximum heart rate achieved',\n",
       " 'exercise-induced angina',\n",
       " 'oldpeak = ST depression induced by exercise relative to rest',\n",
       " 'the slope of the peak exercise ST segment',\n",
       " 'number of major vessels (0-3) colored by fluoroscopy',\n",
       " 'thal: 3 = normal; 6 = fixed defect; 7 = reversible defect']"
      ]
     },
     "execution_count": 167,
     "metadata": {},
     "output_type": "execute_result"
    }
   ],
   "source": [
    "# convert everything numerical\n",
    "X = [\n",
    "    \"age\",\n",
    "    \"1: male, 0: female\",\n",
    "    \"chest pain type, 1: typical angina, 2: atypical angina, 3: non-anginal pain, 4: asymptomatic\",\n",
    "    \"resting blood pressure\",\n",
    "    \"serum cholestoral in mg/dl\",\n",
    "    \"fasting blood sugar > 120 mg/dl\",\n",
    "    \"resting electrocardiographic results (values 0,1,2)\",\n",
    "    \"maximum heart rate achieved\",\n",
    "    \"exercise-induced angina\",\n",
    "    \"oldpeak = ST depression induced by exercise relative to rest\",\n",
    "    \"the slope of the peak exercise ST segment\",\n",
    "    \"number of major vessels (0-3) colored by fluoroscopy\",\n",
    "    \"thal: 3 = normal; 6 = fixed defect; 7 = reversible defect\"\n",
    "]\n",
    "\n",
    "X[0:13]"
   ]
  },
  {
   "cell_type": "code",
   "execution_count": 168,
   "id": "a228dcbd",
   "metadata": {},
   "outputs": [
    {
     "data": {
      "text/plain": [
       "0    1\n",
       "1    1\n",
       "2    1\n",
       "3    1\n",
       "4    1\n",
       "Name: output, dtype: int64"
      ]
     },
     "execution_count": 168,
     "metadata": {},
     "output_type": "execute_result"
    }
   ],
   "source": [
    "Y=data[\"output\"]\n",
    "Y[0:5]"
   ]
  },
  {
   "cell_type": "code",
   "execution_count": 169,
   "id": "0a4028fb",
   "metadata": {},
   "outputs": [
    {
     "data": {
      "text/plain": [
       "count    303.000000\n",
       "mean       0.544554\n",
       "std        0.498835\n",
       "min        0.000000\n",
       "25%        0.000000\n",
       "50%        1.000000\n",
       "75%        1.000000\n",
       "max        1.000000\n",
       "Name: output, dtype: float64"
      ]
     },
     "execution_count": 169,
     "metadata": {},
     "output_type": "execute_result"
    }
   ],
   "source": [
    "data[\"output\"].describe()"
   ]
  },
  {
   "cell_type": "code",
   "execution_count": 170,
   "id": "782c7281",
   "metadata": {
    "scrolled": false
   },
   "outputs": [
    {
     "name": "stdout",
     "output_type": "stream",
     "text": [
      "output      1.000000\n",
      "exng        0.436757\n",
      "cp          0.433798\n",
      "oldpeak     0.430696\n",
      "thalachh    0.421741\n",
      "caa         0.391724\n",
      "slp         0.345877\n",
      "thall       0.344029\n",
      "sex         0.280937\n",
      "age         0.225439\n",
      "trtbps      0.144931\n",
      "restecg     0.137230\n",
      "chol        0.085239\n",
      "fbs         0.028046\n",
      "Name: output, dtype: float64\n"
     ]
    }
   ],
   "source": [
    "# correlation & normalizing\n",
    "print(data.corr()[\"output\"].abs().sort_values(ascending=False))"
   ]
  },
  {
   "cell_type": "markdown",
   "id": "0e7d119b",
   "metadata": {},
   "source": [
    "# Analyse values"
   ]
  },
  {
   "cell_type": "code",
   "execution_count": 171,
   "id": "d9736288",
   "metadata": {},
   "outputs": [
    {
     "data": {
      "image/png": "[encoded data removed]",
      "text/plain": [
       "<Figure size 432x288 with 1 Axes>"
      ]
     },
     "metadata": {
      "needs_background": "light"
     },
     "output_type": "display_data"
    },
    {
     "name": "stdout",
     "output_type": "stream",
     "text": [
      "1    165\n",
      "0    138\n",
      "Name: output, dtype: int64\n",
      "Percentage of heart problems: 45.54\n",
      "Percentage of healthy heart: 54.46\n"
     ]
    }
   ],
   "source": [
    "import matplotlib.pyplot as plt\n",
    "\n",
    "# Create a count plot with different colors for heart problems and without heart problems\n",
    "plt.bar(Y.unique(), Y.value_counts(), color=['red', 'blue'])\n",
    "\n",
    "plt.xticks(Y.unique(), ['Heart Problems', 'Without Heart Problems'])\n",
    "plt.show()\n",
    "\n",
    "# Calculate the counts and percentages \n",
    "target_temp = Y.value_counts()\n",
    "total_patients = len(Y)\n",
    "percentage_with_heart_problems = (target_temp[1] * 100) / total_patients\n",
    "percentage_without_heart_problems = (target_temp[0] * 100) / total_patients\n",
    "\n",
    "print(target_temp)\n",
    "print(\"Percentage of heart problems: \" + str(round(percentage_without_heart_problems, 2)))\n",
    "print(\"Percentage of healthy heart: \" + str(round(percentage_with_heart_problems, 2)))\n"
   ]
  },
  {
   "cell_type": "markdown",
   "id": "9b5a4661",
   "metadata": {},
   "source": [
    "Now we start no analyse one by one of our X:"
   ]
  },
  {
   "cell_type": "code",
   "execution_count": 172,
   "id": "0f6730fa",
   "metadata": {
    "scrolled": true
   },
   "outputs": [
    {
     "data": {
      "image/png": "[encoded data removed]",
      "text/plain": [
       "<Figure size 432x288 with 1 Axes>"
      ]
     },
     "metadata": {
      "needs_background": "light"
     },
     "output_type": "display_data"
    }
   ],
   "source": [
    "# Now do that for the sex factor\n",
    "# Get the unique values of the \"sex\" column\n",
    "unique_sexes = data[\"sex\"].unique()\n",
    "counts = []\n",
    "for sex in unique_sexes:\n",
    "  count = len(data[data[\"sex\"] == sex])\n",
    "  counts.append(count)\n",
    "\n",
    "plt.bar(unique_sexes, counts)\n",
    "plt.show()\n"
   ]
  },
  {
   "cell_type": "markdown",
   "id": "18fd8c41",
   "metadata": {},
   "source": [
    "so what we can see  chance to have heart problem between man and woman ."
   ]
  },
  {
   "cell_type": "code",
   "execution_count": 173,
   "id": "5bd9212d",
   "metadata": {
    "scrolled": true
   },
   "outputs": [
    {
     "name": "stderr",
     "output_type": "stream",
     "text": [
      "/home/amirali/anaconda3/lib/python3.9/site-packages/seaborn/_decorators.py:36: FutureWarning: Pass the following variables as keyword args: x, y. From version 0.12, the only valid positional argument will be `data`, and passing other arguments without an explicit keyword will result in an error or misinterpretation.\n",
      "  warnings.warn(\n"
     ]
    },
    {
     "data": {
      "image/png": "[encoded data removed]",
      "text/plain": [
       "<Figure size 432x288 with 1 Axes>"
      ]
     },
     "metadata": {
      "needs_background": "light"
     },
     "output_type": "display_data"
    }
   ],
   "source": [
    "# now we do same thing for CP factor \n",
    "sns.barplot(data[\"cp\"], Y)\n",
    "plt.title(\"cp vs. output\")\n",
    "plt.xlabel(\"cp\")\n",
    "plt.ylabel(\"Y\")\n",
    "plt.show()"
   ]
  },
  {
   "cell_type": "markdown",
   "id": "9a53a574",
   "metadata": {},
   "source": [
    "we can see the difference between people of each group via plt and find out people with 0 cp has less chance"
   ]
  },
  {
   "cell_type": "code",
   "execution_count": 174,
   "id": "cba77284",
   "metadata": {},
   "outputs": [
    {
     "name": "stderr",
     "output_type": "stream",
     "text": [
      "/home/amirali/anaconda3/lib/python3.9/site-packages/seaborn/_decorators.py:36: FutureWarning: Pass the following variables as keyword args: x, y. From version 0.12, the only valid positional argument will be `data`, and passing other arguments without an explicit keyword will result in an error or misinterpretation.\n",
      "  warnings.warn(\n"
     ]
    },
    {
     "data": {
      "image/png": "[encoded data removed]",
      "text/plain": [
       "<Figure size 432x288 with 1 Axes>"
      ]
     },
     "metadata": {
      "needs_background": "light"
     },
     "output_type": "display_data"
    }
   ],
   "source": [
    "sns.barplot(data[\"fbs\"], Y)\n",
    "plt.title(\"fbs vs. output\")\n",
    "plt.xlabel(\"fbs\")\n",
    "plt.ylabel(\"Y\")\n",
    "plt.show()"
   ]
  },
  {
   "cell_type": "markdown",
   "id": "4ff4e6e1",
   "metadata": {},
   "source": [
    "there was no terrific data here that can help us ."
   ]
  },
  {
   "cell_type": "code",
   "execution_count": 175,
   "id": "39b1f5c7",
   "metadata": {},
   "outputs": [
    {
     "name": "stderr",
     "output_type": "stream",
     "text": [
      "/home/amirali/anaconda3/lib/python3.9/site-packages/seaborn/_decorators.py:36: FutureWarning: Pass the following variables as keyword args: x, y. From version 0.12, the only valid positional argument will be `data`, and passing other arguments without an explicit keyword will result in an error or misinterpretation.\n",
      "  warnings.warn(\n"
     ]
    },
    {
     "data": {
      "image/png": "[encoded data removed]",
      "text/plain": [
       "<Figure size 432x288 with 1 Axes>"
      ]
     },
     "metadata": {
      "needs_background": "light"
     },
     "output_type": "display_data"
    }
   ],
   "source": [
    "#Restecg factor\n",
    "sns.barplot(data[\"restecg\"], Y)\n",
    "plt.title(\"restecg vs. output\")\n",
    "plt.xlabel(\"restecg\")\n",
    "plt.ylabel(\"Y\")\n",
    "plt.show()"
   ]
  },
  {
   "cell_type": "markdown",
   "id": "23f12580",
   "metadata": {},
   "source": [
    " people with restecg 1 and 0 are much more likely to have a heart disease than with restecg 2 and these people are more in safe zone."
   ]
  },
  {
   "cell_type": "code",
   "execution_count": 176,
   "id": "190c80e1",
   "metadata": {},
   "outputs": [
    {
     "name": "stderr",
     "output_type": "stream",
     "text": [
      "/home/amirali/anaconda3/lib/python3.9/site-packages/seaborn/_decorators.py:36: FutureWarning: Pass the following variables as keyword args: x, y. From version 0.12, the only valid positional argument will be `data`, and passing other arguments without an explicit keyword will result in an error or misinterpretation.\n",
      "  warnings.warn(\n"
     ]
    },
    {
     "data": {
      "image/png": "[encoded data removed]",
      "text/plain": [
       "<Figure size 432x288 with 1 Axes>"
      ]
     },
     "metadata": {
      "needs_background": "light"
     },
     "output_type": "display_data"
    }
   ],
   "source": [
    "#Exng factor\n",
    "sns.barplot(data[\"exng\"], Y)\n",
    "plt.title(\"exng vs. output\")\n",
    "plt.xlabel(\"exng\")\n",
    "plt.ylabel(\"Y\")\n",
    "plt.show()"
   ]
  },
  {
   "cell_type": "markdown",
   "id": "01d7002a",
   "metadata": {},
   "source": [
    "people with exng =0 are more likely to face heart attack."
   ]
  },
  {
   "cell_type": "code",
   "execution_count": 177,
   "id": "8551c3a0",
   "metadata": {},
   "outputs": [
    {
     "name": "stderr",
     "output_type": "stream",
     "text": [
      "/home/amirali/anaconda3/lib/python3.9/site-packages/seaborn/_decorators.py:36: FutureWarning: Pass the following variables as keyword args: x, y. From version 0.12, the only valid positional argument will be `data`, and passing other arguments without an explicit keyword will result in an error or misinterpretation.\n",
      "  warnings.warn(\n"
     ]
    },
    {
     "data": {
      "image/png": "[encoded data removed]",
      "text/plain": [
       "<Figure size 432x288 with 1 Axes>"
      ]
     },
     "metadata": {
      "needs_background": "light"
     },
     "output_type": "display_data"
    }
   ],
   "source": [
    "#Slp factor\n",
    "sns.barplot(data[\"slp\"], Y)\n",
    "plt.title(\"slp vs. output\")\n",
    "plt.xlabel(\"slp\")\n",
    "plt.ylabel(\"Y\")\n",
    "plt.show()"
   ]
  },
  {
   "cell_type": "markdown",
   "id": "9a40eb56",
   "metadata": {},
   "source": [
    "people with slp=2 are more in risk to face hart attack."
   ]
  },
  {
   "cell_type": "code",
   "execution_count": 178,
   "id": "915f83a8",
   "metadata": {},
   "outputs": [
    {
     "name": "stderr",
     "output_type": "stream",
     "text": [
      "/home/amirali/anaconda3/lib/python3.9/site-packages/seaborn/_decorators.py:36: FutureWarning: Pass the following variables as keyword args: x, y. From version 0.12, the only valid positional argument will be `data`, and passing other arguments without an explicit keyword will result in an error or misinterpretation.\n",
      "  warnings.warn(\n"
     ]
    },
    {
     "data": {
      "image/png": "[encoded data removed]",
      "text/plain": [
       "<Figure size 432x288 with 1 Axes>"
      ]
     },
     "metadata": {
      "needs_background": "light"
     },
     "output_type": "display_data"
    }
   ],
   "source": [
    "#Caa factor\n",
    "sns.barplot(data[\"caa\"], Y)\n",
    "plt.title(\"caa vs. output\")\n",
    "plt.xlabel(\"caa\")\n",
    "plt.ylabel(\"Y\")\n",
    "plt.show()"
   ]
  },
  {
   "cell_type": "markdown",
   "id": "75ba418d",
   "metadata": {},
   "source": [
    "people whose their caa=4 are more on risk."
   ]
  },
  {
   "cell_type": "code",
   "execution_count": 179,
   "id": "651b196f",
   "metadata": {},
   "outputs": [
    {
     "name": "stderr",
     "output_type": "stream",
     "text": [
      "/home/amirali/anaconda3/lib/python3.9/site-packages/seaborn/_decorators.py:36: FutureWarning: Pass the following variables as keyword args: x, y. From version 0.12, the only valid positional argument will be `data`, and passing other arguments without an explicit keyword will result in an error or misinterpretation.\n",
      "  warnings.warn(\n"
     ]
    },
    {
     "data": {
      "image/png": "[encoded data removed]",
      "text/plain": [
       "<Figure size 432x288 with 1 Axes>"
      ]
     },
     "metadata": {
      "needs_background": "light"
     },
     "output_type": "display_data"
    }
   ],
   "source": [
    "#Thall factor\n",
    "sns.barplot(data[\"thall\"], Y)\n",
    "plt.title(\"thall vs. output\")\n",
    "plt.xlabel(\"thall\")\n",
    "plt.ylabel(\"Y\")\n",
    "plt.show()"
   ]
  },
  {
   "cell_type": "markdown",
   "id": "017fd73f",
   "metadata": {},
   "source": [
    "people with thall=2 group are more likely ti have heart attack.\n"
   ]
  },
  {
   "cell_type": "markdown",
   "id": "f29a9af0",
   "metadata": {},
   "source": [
    "# TRAIN & TEST"
   ]
  },
  {
   "cell_type": "code",
   "execution_count": 180,
   "id": "01b46042",
   "metadata": {},
   "outputs": [],
   "source": [
    "\n",
    "predictors = data.drop(\"output\",axis=1)\n",
    "target = data[\"output\"]\n",
    "\n",
    "X_train,X_test,Y_train,Y_test = train_test_split(predictors,target,test_size=0.20,random_state=0)"
   ]
  },
  {
   "cell_type": "markdown",
   "id": "450513c1",
   "metadata": {},
   "source": [
    "# * Now we start modeling our problem with ways that we learned.\n"
   ]
  },
  {
   "cell_type": "markdown",
   "id": "456d9f72",
   "metadata": {},
   "source": [
    "# KNN ( k - nearest neighbors):"
   ]
  },
  {
   "cell_type": "code",
   "execution_count": 181,
   "id": "8f20c155",
   "metadata": {},
   "outputs": [
    {
     "name": "stdout",
     "output_type": "stream",
     "text": [
      "Accuracy for K = 1: 52.46%\n",
      "Accuracy for K = 2: 60.66%\n",
      "Accuracy for K = 3: 63.93%\n",
      "Accuracy for K = 4: 63.93%\n",
      "Accuracy for K = 5: 63.93%\n",
      "Accuracy for K = 6: 65.57%\n",
      "Accuracy for K = 7: 67.21%\n",
      "Accuracy for K = 8: 68.85%\n",
      "Accuracy for K = 9: 67.21%\n",
      "Accuracy for K = 10: 65.57%\n",
      "\n",
      "Best K: 8, Best Accuracy: 68.85%\n"
     ]
    }
   ],
   "source": [
    "# We test K from 1 to 10 to find which one accuracy is best for our problem.\n",
    "best_k = 0\n",
    "best_accuracy = 0\n",
    "\n",
    "for k in range(1, 11):\n",
    "    knn = KNeighborsClassifier(n_neighbors=k)\n",
    "    knn.fit(X_train, Y_train)\n",
    "    Y_pred_knn = knn.predict(X_test)\n",
    "    accuracy = accuracy_score(Y_pred_knn, Y_test) * 100\n",
    "    print(f\"Accuracy for K = {k}: {accuracy:.2f}%\")\n",
    "    \n",
    "    if accuracy > best_accuracy:\n",
    "        best_k = k\n",
    "        best_accuracy = accuracy\n",
    "\n",
    "print(f\"\\nBest K: {best_k}, Best Accuracy: {best_accuracy:.2f}%\")\n"
   ]
  },
  {
   "cell_type": "markdown",
   "id": "6d1267da",
   "metadata": {},
   "source": [
    "# Decision Tree:"
   ]
  },
  {
   "cell_type": "code",
   "execution_count": 182,
   "id": "26fa0600",
   "metadata": {},
   "outputs": [
    {
     "name": "stdout",
     "output_type": "stream",
     "text": [
      "The best random_state for Decision Tree:  11\n",
      "The accuracy for using  Decision Tree is:  81.97 %\n"
     ]
    }
   ],
   "source": [
    "max_accuracy = 0\n",
    "best_random_state = 0\n",
    "\n",
    "for random_state in range(200):\n",
    "    dt = DecisionTreeClassifier(random_state=random_state)\n",
    "    dt.fit(X_train, Y_train)\n",
    "    Y_pred_dt = dt.predict(X_test)\n",
    "    current_accuracy = round(accuracy_score(Y_pred_dt, Y_test) * 100, 2)\n",
    "    if current_accuracy > max_accuracy:\n",
    "        max_accuracy = current_accuracy\n",
    "        best_random_state = random_state\n",
    "\n",
    "dt_best = DecisionTreeClassifier(random_state=best_random_state)\n",
    "dt_best.fit(X_train, Y_train)\n",
    "Y_pred_dt_best = dt_best.predict(X_test)\n",
    "score_dt_best = round(accuracy_score(Y_pred_dt_best, Y_test) * 100, 2)\n",
    "\n",
    "print(\"The best random_state for Decision Tree: \", best_random_state)\n",
    "print(\"The accuracy for using  Decision Tree is: \", score_dt_best, \"%\")\n"
   ]
  },
  {
   "cell_type": "markdown",
   "id": "0cc0b85f",
   "metadata": {},
   "source": [
    "# Logistic Regression:"
   ]
  },
  {
   "cell_type": "code",
   "execution_count": 183,
   "id": "a9b1985f",
   "metadata": {},
   "outputs": [
    {
     "name": "stdout",
     "output_type": "stream",
     "text": [
      "The accuracy for using Logistic Regression is:  85.25 %\n"
     ]
    },
    {
     "name": "stderr",
     "output_type": "stream",
     "text": [
      "/home/amirali/anaconda3/lib/python3.9/site-packages/sklearn/linear_model/_logistic.py:814: ConvergenceWarning: lbfgs failed to converge (status=1):\n",
      "STOP: TOTAL NO. of ITERATIONS REACHED LIMIT.\n",
      "\n",
      "Increase the number of iterations (max_iter) or scale the data as shown in:\n",
      "    https://scikit-learn.org/stable/modules/preprocessing.html\n",
      "Please also refer to the documentation for alternative solver options:\n",
      "    https://scikit-learn.org/stable/modules/linear_model.html#logistic-regression\n",
      "  n_iter_i = _check_optimize_result(\n"
     ]
    }
   ],
   "source": [
    "lr = LogisticRegression()\n",
    "lr.fit(X_train, Y_train)\n",
    "Y_pred_lr = lr.predict(X_test)\n",
    "score_lr = round(accuracy_score(Y_pred_lr, Y_test) * 100, 2)\n",
    "\n",
    "print(\"The accuracy for using Logistic Regression is: \", score_lr, \"%\")"
   ]
  },
  {
   "cell_type": "markdown",
   "id": "ff7b2b46",
   "metadata": {},
   "source": [
    "# SVM (Support Vector Machine):"
   ]
  },
  {
   "cell_type": "markdown",
   "id": "5f2afd0f",
   "metadata": {},
   "source": [
    "We use 5 ways (The methods mentioned by JADI in the class) for SVM to find out which one works better."
   ]
  },
  {
   "cell_type": "code",
   "execution_count": 184,
   "id": "54f5940e",
   "metadata": {},
   "outputs": [
    {
     "name": "stdout",
     "output_type": "stream",
     "text": [
      "The accuracy using Linear SVM is: 81.97 %\n"
     ]
    }
   ],
   "source": [
    "# Linear kernel\n",
    "sv = svm.SVC(kernel='linear')\n",
    "sv.fit(X_train, Y_train)\n",
    "Y_pred_svm = sv.predict(X_test)\n",
    "score_svm = round(accuracy_score(Y_pred_svm, Y_test) * 100, 2)\n",
    "\n",
    "print(\"The accuracy using Linear SVM is:\", score_svm, \"%\")\n"
   ]
  },
  {
   "cell_type": "code",
   "execution_count": 185,
   "id": "b598a7f7",
   "metadata": {},
   "outputs": [
    {
     "name": "stdout",
     "output_type": "stream",
     "text": [
      "The accuracy using Polynomial SVM is: 72.13 %\n"
     ]
    }
   ],
   "source": [
    "# Set the desired hyperparameters for the polynomial kernel\n",
    "degree = 3  # The degree of the polynomial kernel function\n",
    "gamma = 'scale'  # The kernel coefficient for poly\n",
    "coef0 = 0.0  # Independent term in the polynomial kernel function\n",
    "\n",
    "sv_poly = svm.SVC(kernel='poly', degree=degree, gamma=gamma, coef0=coef0)\n",
    "sv_poly.fit(X_train, Y_train)\n",
    "Y_pred_svm_poly = sv_poly.predict(X_test)\n",
    "score_svm_poly = round(accuracy_score(Y_pred_svm_poly, Y_test) * 100, 2)\n",
    "\n",
    "print(\"The accuracy using Polynomial SVM is:\", score_svm_poly, \"%\")\n"
   ]
  },
  {
   "cell_type": "code",
   "execution_count": 186,
   "id": "3b5dac60",
   "metadata": {},
   "outputs": [
    {
     "name": "stdout",
     "output_type": "stream",
     "text": [
      "TThe accuracy using RBF SVM is: 55.74 %\n"
     ]
    }
   ],
   "source": [
    "# Set the desired value for the gamma parameter\n",
    "gamma_value = 0.1  # You can experiment with different gamma values\n",
    "\n",
    "sv_rbf = svm.SVC(kernel='rbf', gamma=gamma_value)\n",
    "sv_rbf.fit(X_train, Y_train)\n",
    "Y_pred_svm_rbf = sv_rbf.predict(X_test)\n",
    "score_svm_rbf = round(accuracy_score(Y_pred_svm_rbf, Y_test) * 100, 2)\n",
    "\n",
    "print(\"TThe accuracy using RBF SVM is:\", score_svm_rbf, \"%\")\n"
   ]
  },
  {
   "cell_type": "code",
   "execution_count": 187,
   "id": "3424a8f0",
   "metadata": {},
   "outputs": [
    {
     "name": "stdout",
     "output_type": "stream",
     "text": [
      "The accuracy using Sigmoid SVM is: 55.74 %\n"
     ]
    }
   ],
   "source": [
    "# Set the desired values for the gamma and coef0 parameters\n",
    "gamma_value = 0.1  # You can experiment with different gamma values\n",
    "coef0_value = 0.0  # You can experiment with different coef0 values\n",
    "\n",
    "sv_sigmoid = svm.SVC(kernel='sigmoid', gamma=gamma_value, coef0=coef0_value)\n",
    "sv_sigmoid.fit(X_train, Y_train)\n",
    "Y_pred_svm_sigmoid = sv_sigmoid.predict(X_test)\n",
    "score_svm_sigmoid = round(accuracy_score(Y_pred_svm_sigmoid, Y_test) * 100, 2)\n",
    "\n",
    "print(\"The accuracy using Sigmoid SVM is:\", score_svm_sigmoid, \"%\")\n"
   ]
  },
  {
   "cell_type": "markdown",
   "id": "f1521568",
   "metadata": {},
   "source": [
    "For SVM methode we find that linear way has the best accuracy!"
   ]
  },
  {
   "cell_type": "markdown",
   "id": "f070b9a4",
   "metadata": {},
   "source": [
    "# Final Conclusion:"
   ]
  },
  {
   "cell_type": "markdown",
   "id": "83bb7650",
   "metadata": {},
   "source": [
    "**Best Accuracy for each method:**\n",
    "\n",
    "KNN: 68.85% \n",
    "\n",
    "Descision Tree: 81.97 %\n",
    "\n",
    "Logistic Reg: 85.25 %\n",
    "\n",
    "SVM:81.97 % (linear)"
   ]
  },
  {
   "cell_type": "markdown",
   "id": "54a1208b",
   "metadata": {},
   "source": [
    "so the rating for this question will be like :\n",
    "    \n",
    "Logistic Reg > Descision Tree = SVM >  KNN"
   ]
  }
 ],
 "metadata": {
  "kernelspec": {
   "display_name": "Python 3 (ipykernel)",
   "language": "python",
   "name": "python3"
  },
  "language_info": {
   "codemirror_mode": {
    "name": "ipython",
    "version": 3
   },
   "file_extension": ".py",
   "mimetype": "text/x-python",
   "name": "python",
   "nbconvert_exporter": "python",
   "pygments_lexer": "ipython3",
   "version": "3.9.12"
  }
 },
 "nbformat": 4,
 "nbformat_minor": 5
}
