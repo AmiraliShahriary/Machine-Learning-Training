{
 "cells": [
  {
   "cell_type": "markdown",
   "id": "30909ca7",
   "metadata": {},
   "source": [
    "Amirali Shahriary"
   ]
  },
  {
   "cell_type": "code",
   "execution_count": 199,
   "id": "1bdf9561",
   "metadata": {},
   "outputs": [],
   "source": [
    "import pandas as pd\n",
    "import numpy as np\n",
    "import pylab as pl\n",
    "import matplotlib.pyplot as plt\n",
    "from pandas.plotting import scatter_matrix\n",
    "from sklearn.model_selection import train_test_split\n",
    "from sklearn import linear_model\n",
    "from sklearn.linear_model import LinearRegression\n",
    "from sklearn.preprocessing import LabelEncoder\n",
    "%matplotlib inline"
   ]
  },
  {
   "cell_type": "code",
   "execution_count": 200,
   "id": "d2d26501",
   "metadata": {},
   "outputs": [],
   "source": [
    "# Load the data from the CSV file\n",
    "#data = pd.read_csv('/home/amirali/Downloads/housePrice.csv') \n",
    "data = pd.read_csv('housePrice.csv')\n",
    "\n",
    "\n",
    "# Remove entries with missing or incorrect values\n",
    "data = data.dropna()  # Remove rows with any missing values\n",
    "data['Area'] = pd.to_numeric(data['Area'], errors='coerce')\n",
    "data = data[data['Area'] < 449]  # i found this area based on searching among the data so i can Remove rows with unrealistically large house size \n",
    "data = data.dropna(subset=['Address']) # Drop rows with missing values in the 'Address' column\n"
   ]
  },
  {
   "cell_type": "code",
   "execution_count": 201,
   "id": "995ad07d",
   "metadata": {},
   "outputs": [],
   "source": [
    "# we convert them to numeric format\n",
    "data['Parking'] = data['Parking'].astype(int)\n",
    "data['Warehouse'] = data['Warehouse'].astype(int)\n",
    "data['Elevator'] = data['Elevator'].astype(int)"
   ]
  },
  {
   "cell_type": "code",
   "execution_count": 202,
   "id": "63167cad",
   "metadata": {
    "scrolled": true
   },
   "outputs": [
    {
     "data": {
      "text/html": [
       "<div>\n",
       "<style scoped>\n",
       "    .dataframe tbody tr th:only-of-type {\n",
       "        vertical-align: middle;\n",
       "    }\n",
       "\n",
       "    .dataframe tbody tr th {\n",
       "        vertical-align: top;\n",
       "    }\n",
       "\n",
       "    .dataframe thead th {\n",
       "        text-align: right;\n",
       "    }\n",
       "</style>\n",
       "<table border=\"1\" class=\"dataframe\">\n",
       "  <thead>\n",
       "    <tr style=\"text-align: right;\">\n",
       "      <th></th>\n",
       "      <th>Area</th>\n",
       "      <th>Room</th>\n",
       "      <th>Parking</th>\n",
       "      <th>Warehouse</th>\n",
       "      <th>Elevator</th>\n",
       "      <th>Address</th>\n",
       "      <th>Price</th>\n",
       "      <th>Price(USD)</th>\n",
       "    </tr>\n",
       "  </thead>\n",
       "  <tbody>\n",
       "    <tr>\n",
       "      <th>0</th>\n",
       "      <td>63.0</td>\n",
       "      <td>1</td>\n",
       "      <td>1</td>\n",
       "      <td>1</td>\n",
       "      <td>1</td>\n",
       "      <td>Shahran</td>\n",
       "      <td>1.850000e+09</td>\n",
       "      <td>61666.67</td>\n",
       "    </tr>\n",
       "    <tr>\n",
       "      <th>1</th>\n",
       "      <td>60.0</td>\n",
       "      <td>1</td>\n",
       "      <td>1</td>\n",
       "      <td>1</td>\n",
       "      <td>1</td>\n",
       "      <td>Shahran</td>\n",
       "      <td>1.850000e+09</td>\n",
       "      <td>61666.67</td>\n",
       "    </tr>\n",
       "    <tr>\n",
       "      <th>2</th>\n",
       "      <td>79.0</td>\n",
       "      <td>2</td>\n",
       "      <td>1</td>\n",
       "      <td>1</td>\n",
       "      <td>1</td>\n",
       "      <td>Pardis</td>\n",
       "      <td>5.500000e+08</td>\n",
       "      <td>18333.33</td>\n",
       "    </tr>\n",
       "    <tr>\n",
       "      <th>3</th>\n",
       "      <td>95.0</td>\n",
       "      <td>2</td>\n",
       "      <td>1</td>\n",
       "      <td>1</td>\n",
       "      <td>1</td>\n",
       "      <td>Shahrake Qods</td>\n",
       "      <td>9.025000e+08</td>\n",
       "      <td>30083.33</td>\n",
       "    </tr>\n",
       "    <tr>\n",
       "      <th>4</th>\n",
       "      <td>123.0</td>\n",
       "      <td>2</td>\n",
       "      <td>1</td>\n",
       "      <td>1</td>\n",
       "      <td>1</td>\n",
       "      <td>Shahrake Gharb</td>\n",
       "      <td>7.000000e+09</td>\n",
       "      <td>233333.33</td>\n",
       "    </tr>\n",
       "    <tr>\n",
       "      <th>5</th>\n",
       "      <td>70.0</td>\n",
       "      <td>2</td>\n",
       "      <td>1</td>\n",
       "      <td>1</td>\n",
       "      <td>0</td>\n",
       "      <td>North Program Organization</td>\n",
       "      <td>2.050000e+09</td>\n",
       "      <td>68333.33</td>\n",
       "    </tr>\n",
       "    <tr>\n",
       "      <th>6</th>\n",
       "      <td>87.0</td>\n",
       "      <td>2</td>\n",
       "      <td>1</td>\n",
       "      <td>1</td>\n",
       "      <td>1</td>\n",
       "      <td>Pardis</td>\n",
       "      <td>6.000000e+08</td>\n",
       "      <td>20000.00</td>\n",
       "    </tr>\n",
       "    <tr>\n",
       "      <th>7</th>\n",
       "      <td>59.0</td>\n",
       "      <td>1</td>\n",
       "      <td>1</td>\n",
       "      <td>1</td>\n",
       "      <td>1</td>\n",
       "      <td>Shahran</td>\n",
       "      <td>2.150000e+09</td>\n",
       "      <td>71666.67</td>\n",
       "    </tr>\n",
       "    <tr>\n",
       "      <th>8</th>\n",
       "      <td>54.0</td>\n",
       "      <td>2</td>\n",
       "      <td>1</td>\n",
       "      <td>1</td>\n",
       "      <td>0</td>\n",
       "      <td>Andisheh</td>\n",
       "      <td>4.930000e+08</td>\n",
       "      <td>16433.33</td>\n",
       "    </tr>\n",
       "    <tr>\n",
       "      <th>9</th>\n",
       "      <td>71.0</td>\n",
       "      <td>1</td>\n",
       "      <td>1</td>\n",
       "      <td>1</td>\n",
       "      <td>1</td>\n",
       "      <td>West Ferdows Boulevard</td>\n",
       "      <td>2.370000e+09</td>\n",
       "      <td>79000.00</td>\n",
       "    </tr>\n",
       "  </tbody>\n",
       "</table>\n",
       "</div>"
      ],
      "text/plain": [
       "    Area  Room  Parking  Warehouse  Elevator                     Address  \\\n",
       "0   63.0     1        1          1         1                     Shahran   \n",
       "1   60.0     1        1          1         1                     Shahran   \n",
       "2   79.0     2        1          1         1                      Pardis   \n",
       "3   95.0     2        1          1         1               Shahrake Qods   \n",
       "4  123.0     2        1          1         1              Shahrake Gharb   \n",
       "5   70.0     2        1          1         0  North Program Organization   \n",
       "6   87.0     2        1          1         1                      Pardis   \n",
       "7   59.0     1        1          1         1                     Shahran   \n",
       "8   54.0     2        1          1         0                    Andisheh   \n",
       "9   71.0     1        1          1         1      West Ferdows Boulevard   \n",
       "\n",
       "          Price  Price(USD)  \n",
       "0  1.850000e+09    61666.67  \n",
       "1  1.850000e+09    61666.67  \n",
       "2  5.500000e+08    18333.33  \n",
       "3  9.025000e+08    30083.33  \n",
       "4  7.000000e+09   233333.33  \n",
       "5  2.050000e+09    68333.33  \n",
       "6  6.000000e+08    20000.00  \n",
       "7  2.150000e+09    71666.67  \n",
       "8  4.930000e+08    16433.33  \n",
       "9  2.370000e+09    79000.00  "
      ]
     },
     "execution_count": 202,
     "metadata": {},
     "output_type": "execute_result"
    }
   ],
   "source": [
    "data.head(10)"
   ]
  },
  {
   "cell_type": "code",
   "execution_count": 203,
   "id": "aec80024",
   "metadata": {
    "scrolled": true
   },
   "outputs": [
    {
     "data": {
      "text/html": [
       "<div>\n",
       "<style scoped>\n",
       "    .dataframe tbody tr th:only-of-type {\n",
       "        vertical-align: middle;\n",
       "    }\n",
       "\n",
       "    .dataframe tbody tr th {\n",
       "        vertical-align: top;\n",
       "    }\n",
       "\n",
       "    .dataframe thead th {\n",
       "        text-align: right;\n",
       "    }\n",
       "</style>\n",
       "<table border=\"1\" class=\"dataframe\">\n",
       "  <thead>\n",
       "    <tr style=\"text-align: right;\">\n",
       "      <th></th>\n",
       "      <th>Area</th>\n",
       "      <th>Room</th>\n",
       "      <th>Parking</th>\n",
       "      <th>Warehouse</th>\n",
       "      <th>Elevator</th>\n",
       "      <th>Price</th>\n",
       "      <th>Price(USD)</th>\n",
       "    </tr>\n",
       "  </thead>\n",
       "  <tbody>\n",
       "    <tr>\n",
       "      <th>count</th>\n",
       "      <td>3424.000000</td>\n",
       "      <td>3424.000000</td>\n",
       "      <td>3424.000000</td>\n",
       "      <td>3424.000000</td>\n",
       "      <td>3424.000000</td>\n",
       "      <td>3.424000e+03</td>\n",
       "      <td>3.424000e+03</td>\n",
       "    </tr>\n",
       "    <tr>\n",
       "      <th>mean</th>\n",
       "      <td>103.045853</td>\n",
       "      <td>2.072138</td>\n",
       "      <td>0.847255</td>\n",
       "      <td>0.915888</td>\n",
       "      <td>0.792056</td>\n",
       "      <td>5.185736e+09</td>\n",
       "      <td>1.728579e+05</td>\n",
       "    </tr>\n",
       "    <tr>\n",
       "      <th>std</th>\n",
       "      <td>52.314700</td>\n",
       "      <td>0.746045</td>\n",
       "      <td>0.359794</td>\n",
       "      <td>0.277596</td>\n",
       "      <td>0.405896</td>\n",
       "      <td>7.318841e+09</td>\n",
       "      <td>2.439614e+05</td>\n",
       "    </tr>\n",
       "    <tr>\n",
       "      <th>min</th>\n",
       "      <td>30.000000</td>\n",
       "      <td>0.000000</td>\n",
       "      <td>0.000000</td>\n",
       "      <td>0.000000</td>\n",
       "      <td>0.000000</td>\n",
       "      <td>3.600000e+06</td>\n",
       "      <td>1.200000e+02</td>\n",
       "    </tr>\n",
       "    <tr>\n",
       "      <th>25%</th>\n",
       "      <td>68.000000</td>\n",
       "      <td>2.000000</td>\n",
       "      <td>1.000000</td>\n",
       "      <td>1.000000</td>\n",
       "      <td>1.000000</td>\n",
       "      <td>1.400000e+09</td>\n",
       "      <td>4.666667e+04</td>\n",
       "    </tr>\n",
       "    <tr>\n",
       "      <th>50%</th>\n",
       "      <td>90.000000</td>\n",
       "      <td>2.000000</td>\n",
       "      <td>1.000000</td>\n",
       "      <td>1.000000</td>\n",
       "      <td>1.000000</td>\n",
       "      <td>2.850000e+09</td>\n",
       "      <td>9.500000e+04</td>\n",
       "    </tr>\n",
       "    <tr>\n",
       "      <th>75%</th>\n",
       "      <td>120.000000</td>\n",
       "      <td>2.000000</td>\n",
       "      <td>1.000000</td>\n",
       "      <td>1.000000</td>\n",
       "      <td>1.000000</td>\n",
       "      <td>6.000000e+09</td>\n",
       "      <td>2.000000e+05</td>\n",
       "    </tr>\n",
       "    <tr>\n",
       "      <th>max</th>\n",
       "      <td>420.000000</td>\n",
       "      <td>5.000000</td>\n",
       "      <td>1.000000</td>\n",
       "      <td>1.000000</td>\n",
       "      <td>1.000000</td>\n",
       "      <td>9.240000e+10</td>\n",
       "      <td>3.080000e+06</td>\n",
       "    </tr>\n",
       "  </tbody>\n",
       "</table>\n",
       "</div>"
      ],
      "text/plain": [
       "              Area         Room      Parking    Warehouse     Elevator  \\\n",
       "count  3424.000000  3424.000000  3424.000000  3424.000000  3424.000000   \n",
       "mean    103.045853     2.072138     0.847255     0.915888     0.792056   \n",
       "std      52.314700     0.746045     0.359794     0.277596     0.405896   \n",
       "min      30.000000     0.000000     0.000000     0.000000     0.000000   \n",
       "25%      68.000000     2.000000     1.000000     1.000000     1.000000   \n",
       "50%      90.000000     2.000000     1.000000     1.000000     1.000000   \n",
       "75%     120.000000     2.000000     1.000000     1.000000     1.000000   \n",
       "max     420.000000     5.000000     1.000000     1.000000     1.000000   \n",
       "\n",
       "              Price    Price(USD)  \n",
       "count  3.424000e+03  3.424000e+03  \n",
       "mean   5.185736e+09  1.728579e+05  \n",
       "std    7.318841e+09  2.439614e+05  \n",
       "min    3.600000e+06  1.200000e+02  \n",
       "25%    1.400000e+09  4.666667e+04  \n",
       "50%    2.850000e+09  9.500000e+04  \n",
       "75%    6.000000e+09  2.000000e+05  \n",
       "max    9.240000e+10  3.080000e+06  "
      ]
     },
     "execution_count": 203,
     "metadata": {},
     "output_type": "execute_result"
    }
   ],
   "source": [
    "data.describe()"
   ]
  },
  {
   "cell_type": "code",
   "execution_count": 204,
   "id": "21980fb7",
   "metadata": {},
   "outputs": [
    {
     "name": "stdout",
     "output_type": "stream",
     "text": [
      "<class 'pandas.core.frame.DataFrame'>\n",
      "Int64Index: 3424 entries, 0 to 3478\n",
      "Data columns (total 8 columns):\n",
      " #   Column      Non-Null Count  Dtype  \n",
      "---  ------      --------------  -----  \n",
      " 0   Area        3424 non-null   float64\n",
      " 1   Room        3424 non-null   int64  \n",
      " 2   Parking     3424 non-null   int64  \n",
      " 3   Warehouse   3424 non-null   int64  \n",
      " 4   Elevator    3424 non-null   int64  \n",
      " 5   Address     3424 non-null   object \n",
      " 6   Price       3424 non-null   float64\n",
      " 7   Price(USD)  3424 non-null   float64\n",
      "dtypes: float64(3), int64(4), object(1)\n",
      "memory usage: 240.8+ KB\n",
      "None\n"
     ]
    }
   ],
   "source": [
    "print(data.info())"
   ]
  },
  {
   "cell_type": "code",
   "execution_count": 205,
   "id": "6755be72",
   "metadata": {},
   "outputs": [],
   "source": [
    "#now as we know in Regression we must only face with numeric values so we convert addreses into a hashed numbers.\n",
    "encoder =LabelEncoder()\n",
    "data['Address'] =encoder.fit_transform(data.Address)"
   ]
  },
  {
   "cell_type": "code",
   "execution_count": 206,
   "id": "5e27efa8",
   "metadata": {},
   "outputs": [
    {
     "data": {
      "text/html": [
       "<div>\n",
       "<style scoped>\n",
       "    .dataframe tbody tr th:only-of-type {\n",
       "        vertical-align: middle;\n",
       "    }\n",
       "\n",
       "    .dataframe tbody tr th {\n",
       "        vertical-align: top;\n",
       "    }\n",
       "\n",
       "    .dataframe thead th {\n",
       "        text-align: right;\n",
       "    }\n",
       "</style>\n",
       "<table border=\"1\" class=\"dataframe\">\n",
       "  <thead>\n",
       "    <tr style=\"text-align: right;\">\n",
       "      <th></th>\n",
       "      <th>Area</th>\n",
       "      <th>Room</th>\n",
       "      <th>Parking</th>\n",
       "      <th>Warehouse</th>\n",
       "      <th>Elevator</th>\n",
       "      <th>Address</th>\n",
       "      <th>Price</th>\n",
       "      <th>Price(USD)</th>\n",
       "    </tr>\n",
       "  </thead>\n",
       "  <tbody>\n",
       "    <tr>\n",
       "      <th>0</th>\n",
       "      <td>63.0</td>\n",
       "      <td>1</td>\n",
       "      <td>1</td>\n",
       "      <td>1</td>\n",
       "      <td>1</td>\n",
       "      <td>154</td>\n",
       "      <td>1.850000e+09</td>\n",
       "      <td>61666.67</td>\n",
       "    </tr>\n",
       "    <tr>\n",
       "      <th>1</th>\n",
       "      <td>60.0</td>\n",
       "      <td>1</td>\n",
       "      <td>1</td>\n",
       "      <td>1</td>\n",
       "      <td>1</td>\n",
       "      <td>154</td>\n",
       "      <td>1.850000e+09</td>\n",
       "      <td>61666.67</td>\n",
       "    </tr>\n",
       "    <tr>\n",
       "      <th>2</th>\n",
       "      <td>79.0</td>\n",
       "      <td>2</td>\n",
       "      <td>1</td>\n",
       "      <td>1</td>\n",
       "      <td>1</td>\n",
       "      <td>115</td>\n",
       "      <td>5.500000e+08</td>\n",
       "      <td>18333.33</td>\n",
       "    </tr>\n",
       "    <tr>\n",
       "      <th>3</th>\n",
       "      <td>95.0</td>\n",
       "      <td>2</td>\n",
       "      <td>1</td>\n",
       "      <td>1</td>\n",
       "      <td>1</td>\n",
       "      <td>150</td>\n",
       "      <td>9.025000e+08</td>\n",
       "      <td>30083.33</td>\n",
       "    </tr>\n",
       "    <tr>\n",
       "      <th>4</th>\n",
       "      <td>123.0</td>\n",
       "      <td>2</td>\n",
       "      <td>1</td>\n",
       "      <td>1</td>\n",
       "      <td>1</td>\n",
       "      <td>148</td>\n",
       "      <td>7.000000e+09</td>\n",
       "      <td>233333.33</td>\n",
       "    </tr>\n",
       "  </tbody>\n",
       "</table>\n",
       "</div>"
      ],
      "text/plain": [
       "    Area  Room  Parking  Warehouse  Elevator  Address         Price  \\\n",
       "0   63.0     1        1          1         1      154  1.850000e+09   \n",
       "1   60.0     1        1          1         1      154  1.850000e+09   \n",
       "2   79.0     2        1          1         1      115  5.500000e+08   \n",
       "3   95.0     2        1          1         1      150  9.025000e+08   \n",
       "4  123.0     2        1          1         1      148  7.000000e+09   \n",
       "\n",
       "   Price(USD)  \n",
       "0    61666.67  \n",
       "1    61666.67  \n",
       "2    18333.33  \n",
       "3    30083.33  \n",
       "4   233333.33  "
      ]
     },
     "execution_count": 206,
     "metadata": {},
     "output_type": "execute_result"
    }
   ],
   "source": [
    "# as you can see address are now describe with hashing numbers.\n",
    "data.head()"
   ]
  },
  {
   "cell_type": "code",
   "execution_count": 207,
   "id": "345b25a6",
   "metadata": {},
   "outputs": [
    {
     "data": {
      "text/plain": [
       "Price         1.000000\n",
       "Price(USD)    1.000000\n",
       "Area          0.797535\n",
       "Room          0.569760\n",
       "Parking       0.210285\n",
       "Elevator      0.159948\n",
       "Warehouse     0.124628\n",
       "Address      -0.074624\n",
       "Name: Price, dtype: float64"
      ]
     },
     "execution_count": 207,
     "metadata": {},
     "output_type": "execute_result"
    }
   ],
   "source": [
    "# Here we examine the impact of each variable on the price.\n",
    "corr_matrix =data.corr()\n",
    "corr_matrix[\"Price\"].sort_values(ascending=False)"
   ]
  },
  {
   "cell_type": "code",
   "execution_count": 208,
   "id": "97b3f790",
   "metadata": {
    "scrolled": true
   },
   "outputs": [
    {
     "name": "stdout",
     "output_type": "stream",
     "text": [
      "       Area  Room  Parking  Warehouse  Elevator  Address         Price  \\\n",
      "0      63.0     1        1          1         1      154  1.850000e+09   \n",
      "1      60.0     1        1          1         1      154  1.850000e+09   \n",
      "2      79.0     2        1          1         1      115  5.500000e+08   \n",
      "3      95.0     2        1          1         1      150  9.025000e+08   \n",
      "4     123.0     2        1          1         1      148  7.000000e+09   \n",
      "...     ...   ...      ...        ...       ...      ...           ...   \n",
      "3474   86.0     2        1          1         1      161  3.500000e+09   \n",
      "3475   83.0     2        1          1         1      103  6.800000e+09   \n",
      "3476   75.0     2        0          0         0      113  3.650000e+08   \n",
      "3477  105.0     2        1          1         1       38  5.600000e+09   \n",
      "3478   82.0     2        0          1         1      113  3.600000e+08   \n",
      "\n",
      "      Price(USD)   value ratio  Room per area  \n",
      "0       61666.67  3.654189e+07       0.015873  \n",
      "1       61666.67  3.654189e+07       0.016667  \n",
      "2       18333.33  8.014821e+06       0.025316  \n",
      "3       30083.33  9.989330e+06       0.021053  \n",
      "4      233333.33  8.590476e+07       0.016260  \n",
      "...          ...           ...            ...  \n",
      "3474   116666.67  3.921412e+07       0.023256  \n",
      "3475   226666.67  1.129990e+08       0.024096  \n",
      "3476    12166.67  6.435927e+06       0.026667  \n",
      "3477   186666.67  8.302126e+07       0.019048  \n",
      "3478    12000.00  6.435927e+06       0.024390  \n",
      "\n",
      "[3424 rows x 10 columns]\n"
     ]
    }
   ],
   "source": [
    "#here we use the most effective factor for house price (location) and give The value of each address(ratio)\n",
    "# Make a copy of the original data\n",
    "modeling_data = data.copy()\n",
    "mean_area = modeling_data.groupby('Address')['Area'].mean()\n",
    "mean_price = modeling_data.groupby('Address')['Price'].mean()\n",
    "modeling_data['value_ratio'] = modeling_data['Address'].map(mean_price) / modeling_data['Address'].map(mean_area)\n",
    "print(data_for_set_model)\n"
   ]
  },
  {
   "cell_type": "code",
   "execution_count": 209,
   "id": "810fd0a9",
   "metadata": {},
   "outputs": [
    {
     "name": "stdout",
     "output_type": "stream",
     "text": [
      "    Area  Room  Parking  Warehouse  Elevator  Address         Price  \\\n",
      "0   63.0     1        1          1         1      154  1.850000e+09   \n",
      "1   60.0     1        1          1         1      154  1.850000e+09   \n",
      "2   79.0     2        1          1         1      115  5.500000e+08   \n",
      "3   95.0     2        1          1         1      150  9.025000e+08   \n",
      "4  123.0     2        1          1         1      148  7.000000e+09   \n",
      "\n",
      "   Price(USD)   value_ratio  Room_per_area  \n",
      "0    61666.67  3.654189e+07       0.015873  \n",
      "1    61666.67  3.654189e+07       0.016667  \n",
      "2    18333.33  8.014821e+06       0.025316  \n",
      "3    30083.33  9.989330e+06       0.021053  \n",
      "4   233333.33  8.590476e+07       0.016260  \n"
     ]
    }
   ],
   "source": [
    "#now we do the same work for second effective factor and calculate the ratio of Room to Area for each row :\n",
    "\n",
    "modeling_data[\"Room_per_area\"] = modeling_data['Room'] / modeling_data[\"Area\"]\n",
    "print(modeling_data.head())\n"
   ]
  },
  {
   "cell_type": "code",
   "execution_count": 210,
   "id": "2c85c33b",
   "metadata": {},
   "outputs": [
    {
     "data": {
      "text/plain": [
       "Price            1.000000\n",
       "Price(USD)       1.000000\n",
       "Area             0.797535\n",
       "value_ratio      0.712046\n",
       "Room             0.569760\n",
       "Parking          0.210285\n",
       "Elevator         0.159948\n",
       "Warehouse        0.124628\n",
       "Address         -0.074624\n",
       "Room_per_area   -0.385795\n",
       "Name: Price, dtype: float64"
      ]
     },
     "execution_count": 210,
     "metadata": {},
     "output_type": "execute_result"
    }
   ],
   "source": [
    "\n",
    "corr_matrix =modeling_data.corr()\n",
    "corr_matrix[\"Price\"].sort_values(ascending =False)"
   ]
  },
  {
   "cell_type": "code",
   "execution_count": 211,
   "id": "224af9d8",
   "metadata": {},
   "outputs": [
    {
     "name": "stdout",
     "output_type": "stream",
     "text": [
      "       Area  Room  Parking  Warehouse  Elevator  Address         Price  \\\n",
      "2637  124.0     3        1          1         1      144  3.900000e+09   \n",
      "3347   80.0     2        1          1         1      180  3.000000e+09   \n",
      "786    97.0     2        1          1         1       49  5.950000e+09   \n",
      "3348   46.0     1        1          1         1      154  1.700000e+09   \n",
      "2214   60.0     1        0          1         1      150  9.200000e+08   \n",
      "...     ...   ...      ...        ...       ...      ...           ...   \n",
      "1110  160.0     3        1          1         1       10  8.320000e+09   \n",
      "1145  100.0     2        1          1         1      115  1.100000e+09   \n",
      "1310  145.0     3        1          1         1      103  1.450000e+10   \n",
      "873    62.0     1        0          1         0      123  1.100000e+09   \n",
      "3222   53.0     1        0          1         1       98  2.300000e+09   \n",
      "\n",
      "      Price(USD)   value_ratio  Room_per_area  \n",
      "2637   130000.00  3.648485e+07       0.024194  \n",
      "3347   100000.00  4.004740e+07       0.025000  \n",
      "786    198333.33  1.104274e+08       0.020619  \n",
      "3348    56666.67  3.654189e+07       0.021739  \n",
      "2214    30666.67  9.989330e+06       0.016667  \n",
      "...          ...           ...            ...  \n",
      "1110   277333.33  3.199223e+07       0.018750  \n",
      "1145    36666.67  8.014821e+06       0.020000  \n",
      "1310   483333.33  1.129990e+08       0.020690  \n",
      "873     36666.67  2.323726e+07       0.016129  \n",
      "3222    76666.67  4.534899e+07       0.018868  \n",
      "\n",
      "[2739 rows x 10 columns]        Area  Room  Parking  Warehouse  Elevator  Address         Price  \\\n",
      "800    83.0     2        1          1         1       40  2.575000e+09   \n",
      "1758  148.0     3        1          1         1      133  1.258000e+10   \n",
      "2300   43.0     1        1          1         0       98  1.330000e+09   \n",
      "1065   68.0     2        1          1         1      161  2.100000e+09   \n",
      "448   105.0     2        1          1         1      115  1.000000e+09   \n",
      "...     ...   ...      ...        ...       ...      ...           ...   \n",
      "2441  110.0     3        1          1         1       66  5.850000e+09   \n",
      "1269   79.0     2        1          1         1       25  2.999000e+09   \n",
      "2197   44.0     1        1          0         1      109  1.000000e+09   \n",
      "579   200.0     3        1          1         1      116  2.200000e+10   \n",
      "1570   86.0     2        1          1         1      115  7.800000e+08   \n",
      "\n",
      "      Price(USD)   value_ratio  Room_per_area  \n",
      "800     85833.33  3.054809e+07       0.024096  \n",
      "1758   419333.33  7.467362e+07       0.020270  \n",
      "2300    44333.33  4.534899e+07       0.023256  \n",
      "1065    70000.00  3.921412e+07       0.029412  \n",
      "448     33333.33  8.014821e+06       0.019048  \n",
      "...          ...           ...            ...  \n",
      "2441   195000.00  5.812633e+07       0.027273  \n",
      "1269    99966.67  4.161917e+07       0.025316  \n",
      "2197    33333.33  2.576292e+07       0.022727  \n",
      "579    733333.33  6.663091e+07       0.015000  \n",
      "1570    26000.00  8.014821e+06       0.023256  \n",
      "\n",
      "[685 rows x 10 columns]\n"
     ]
    }
   ],
   "source": [
    "# Now we seperate train and test part\n",
    "# Split the data into training and testing sets (80% training, 20% testing)\n",
    "datas=modeling_data.copy()\n",
    "train_set, test_set = train_test_split(modeling_data, test_size=0.2, random_state=42)\n",
    "print(train_set,test_set)"
   ]
  },
  {
   "cell_type": "code",
   "execution_count": 212,
   "id": "c7680f94",
   "metadata": {},
   "outputs": [
    {
     "data": {
      "image/png": "[encoded data removed]",
      "text/plain": [
       "<Figure size 432x288 with 1 Axes>"
      ]
     },
     "metadata": {
      "needs_background": "light"
     },
     "output_type": "display_data"
    }
   ],
   "source": [
    "# Now we scatter the plot of each factor :\n",
    "plt.scatter(train_set.Room, train_set.Price,  color='red')\n",
    "plt.show()"
   ]
  },
  {
   "cell_type": "code",
   "execution_count": 213,
   "id": "4754419d",
   "metadata": {},
   "outputs": [
    {
     "data": {
      "image/png": "[encoded data removed]",
      "text/plain": [
       "<Figure size 432x288 with 1 Axes>"
      ]
     },
     "metadata": {
      "needs_background": "light"
     },
     "output_type": "display_data"
    }
   ],
   "source": [
    "plt.scatter(train_set.Area, train_set.Price,  color='gray')\n",
    "plt.show()"
   ]
  },
  {
   "cell_type": "code",
   "execution_count": 214,
   "id": "412a362a",
   "metadata": {},
   "outputs": [
    {
     "data": {
      "image/png": "[encoded data removed]",
      "text/plain": [
       "<Figure size 432x288 with 1 Axes>"
      ]
     },
     "metadata": {
      "needs_background": "light"
     },
     "output_type": "display_data"
    }
   ],
   "source": [
    "plt.scatter(train_set.value_ratio, train_set.Price,  color='orange')\n",
    "plt.show()"
   ]
  },
  {
   "cell_type": "code",
   "execution_count": 215,
   "id": "969d228f",
   "metadata": {},
   "outputs": [
    {
     "name": "stdout",
     "output_type": "stream",
     "text": [
      "Coefficients:  [[ 1.11624840e+02 -1.41866424e+09 -1.17197323e+09  9.98721440e+07]]\n",
      "Intercept:  [-5.91544741e+09]\n"
     ]
    }
   ],
   "source": [
    "regr =linear_model.LinearRegression()\n",
    "x =np.asanyarray(train_set[['value_ratio','Room','Parking', 'Area']])\n",
    "y =np.asanyarray(train_set[['Price']])\n",
    "# Train the model on the training data\n",
    "regr.fit (x, y)\n",
    "\n",
    "print ('Coefficients: ', regr.coef_)\n",
    "print('Intercept: ', regr.intercept_)"
   ]
  },
  {
   "cell_type": "code",
   "execution_count": 216,
   "id": "e609fb06",
   "metadata": {},
   "outputs": [
    {
     "name": "stdout",
     "output_type": "stream",
     "text": [
      "Residual sum of squares: 7185360767644452864.00\n",
      "squared accuracy on the testing data: 0.82\n"
     ]
    },
    {
     "name": "stderr",
     "output_type": "stream",
     "text": [
      "/home/amirali/anaconda3/lib/python3.9/site-packages/sklearn/base.py:443: UserWarning: X has feature names, but LinearRegression was fitted without feature names\n",
      "  warnings.warn(\n"
     ]
    }
   ],
   "source": [
    "y_hat =regr.predict(test_set[['value_ratio','Room','Parking','Area']])\n",
    "x =np.asanyarray(test_set[['value_ratio','Room','Parking','Area']])\n",
    "y =np.asanyarray(test_set[['Price']])\n",
    "\n",
    "print(\"Residual sum of squares: %.2f\" % np.mean((y_hat - y) ** 2))\n",
    "\n",
    "print('squared accuracy on the testing data: %.2f' % regr.score(x, y))"
   ]
  },
  {
   "cell_type": "code",
   "execution_count": 217,
   "id": "8c311d16",
   "metadata": {},
   "outputs": [
    {
     "name": "stdout",
     "output_type": "stream",
     "text": [
      "Predicted price for the new apartment: 5455561393.06 \n"
     ]
    }
   ],
   "source": [
    "#suppose we have a new apartment and now want to predict the price but with inputs like how regr accept(ratio format)\n",
    "new_apartment_features = [3, 2, 1, 154]\n",
    "\n",
    "new_apartment_features = np.array(new_apartment_features).reshape(1, -1)\n",
    "\n",
    "predicted_price = regr.predict(new_apartment_features)[0]\n",
    "\n",
    "predicted_price_scalar = float(predicted_price)\n",
    "\n",
    "print(f\"Predicted price for the new apartment: {predicted_price_scalar:.2f} \")\n"
   ]
  },
  {
   "cell_type": "markdown",
   "id": "55883a08",
   "metadata": {},
   "source": [
    " "
   ]
  }
 ],
 "metadata": {
  "kernelspec": {
   "display_name": "Python 3 (ipykernel)",
   "language": "python",
   "name": "python3"
  },
  "language_info": {
   "codemirror_mode": {
    "name": "ipython",
    "version": 3
   },
   "file_extension": ".py",
   "mimetype": "text/x-python",
   "name": "python",
   "nbconvert_exporter": "python",
   "pygments_lexer": "ipython3",
   "version": "3.9.12"
  }
 },
 "nbformat": 4,
 "nbformat_minor": 5
}
